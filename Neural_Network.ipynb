{
 "cells": [
  {
   "cell_type": "code",
   "execution_count": 141,
   "metadata": {},
   "outputs": [],
   "source": [
    "import torch\n",
    "import torch.nn as nn\n",
    "import torch.nn.functional as F"
   ]
  },
  {
   "cell_type": "code",
   "execution_count": 142,
   "metadata": {},
   "outputs": [],
   "source": [
    "# Model class that inherits nn.Module\n",
    "class Model(nn.Module):\n",
    "    #Input layer (mass 1, mass 2, etc.) --> Hidden Layer1 (certain # of neurons) --> H2 (certain # of neurons) --> output (3 classes of gravitational waves)\n",
    "    def __init__(self, in_features=28, h1=8, h2=9, out_features=3):\n",
    "        super().__init__() # Instantiates the nn.module\n",
    "        self.fc1 = nn.Linear(in_features, h1)\n",
    "        self.fcs2 = nn.Linear(h1, h2)\n",
    "        self.out = nn.Linear(h2, out_features)\n",
    "\n",
    "    def forward(self, x):\n",
    "        x = F.relu(self.fc1(x))\n",
    "        x = F.relu(self.fcs2(x))\n",
    "        x = self.out(x)\n",
    "\n",
    "        return x"
   ]
  },
  {
   "cell_type": "code",
   "execution_count": 143,
   "metadata": {},
   "outputs": [],
   "source": [
    "# Pick a starting class\n",
    "torch.manual_seed(69)\n",
    "\n",
    "# Create an instance of the model\n",
    "model = Model()"
   ]
  },
  {
   "cell_type": "code",
   "execution_count": 144,
   "metadata": {},
   "outputs": [],
   "source": [
    "import matplotlib.pyplot as plt\n",
    "import pandas as pd\n",
    "import numpy as np\n",
    "%matplotlib inline"
   ]
  },
  {
   "cell_type": "code",
   "execution_count": 145,
   "metadata": {},
   "outputs": [
    {
     "data": {
      "text/plain": [
       "commonName                          False\n",
       "Type                                False\n",
       "mass_1_source                       False\n",
       "mass_1_source_lower                 False\n",
       "mass_1_source_upper                 False\n",
       "mass_2_source                       False\n",
       "mass_2_source_lower                 False\n",
       "mass_2_source_upper                 False\n",
       "network_matched_filter_snr          False\n",
       "network_matched_filter_snr_lower     True\n",
       "network_matched_filter_snr_upper     True\n",
       "luminosity_distance                 False\n",
       "luminosity_distance_lower           False\n",
       "luminosity_distance_upper           False\n",
       "chi_eff                             False\n",
       "chi_eff_lower                       False\n",
       "chi_eff_upper                       False\n",
       "total_mass_source                    True\n",
       "total_mass_source_lower              True\n",
       "total_mass_source_upper              True\n",
       "chirp_mass_source                   False\n",
       "chirp_mass_source_lower             False\n",
       "chirp_mass_source_upper             False\n",
       "redshift                            False\n",
       "redshift_lower                      False\n",
       "redshift_upper                      False\n",
       "p_astro                             False\n",
       "final_mass_source                    True\n",
       "final_mass_source_lower              True\n",
       "final_mass_source_upper              True\n",
       "dtype: bool"
      ]
     },
     "execution_count": 145,
     "metadata": {},
     "output_type": "execute_result"
    }
   ],
   "source": [
    "url = \"Cleaned_Data - Confident_Significant_Events_GW.csv\"\n",
    "df = pd.read_csv(url)\n",
    "df.isnull().sum()\n",
    "missing_values = [np.NaN]\n",
    "df.isnull().any()"
   ]
  },
  {
   "cell_type": "code",
   "execution_count": 146,
   "metadata": {},
   "outputs": [],
   "source": [
    "df = df.dropna()\n"
   ]
  },
  {
   "cell_type": "code",
   "execution_count": 147,
   "metadata": {},
   "outputs": [],
   "source": [
    "# Changed type from string to \"integers\"\n",
    "df['Type'] = df['Type'].replace('Binary Black Hole Collision', 0.0)\n",
    "df['Type'] = df['Type'].replace('Binary Neutron Star Collision', 1.0)\n",
    "df['Type'] = df['Type'].replace('Binary Black Hole & Neutron Star Collision', 2.0)"
   ]
  },
  {
   "cell_type": "code",
   "execution_count": 148,
   "metadata": {},
   "outputs": [],
   "source": [
    "# Train Test Split, set x, y \n",
    "x = df.drop('Type', axis=1).drop('commonName', axis=1)\n",
    "y = df['Type']"
   ]
  },
  {
   "cell_type": "code",
   "execution_count": 149,
   "metadata": {},
   "outputs": [],
   "source": [
    "# Convert to numpy arrays\n",
    "x = x.values\n",
    "y = y.values"
   ]
  },
  {
   "cell_type": "code",
   "execution_count": 150,
   "metadata": {},
   "outputs": [],
   "source": [
    "from sklearn.model_selection import train_test_split"
   ]
  },
  {
   "cell_type": "code",
   "execution_count": 151,
   "metadata": {},
   "outputs": [],
   "source": [
    "x_train, x_test, y_train, y_test = train_test_split(x, y, test_size=0.2, random_state=41)"
   ]
  },
  {
   "cell_type": "code",
   "execution_count": 152,
   "metadata": {},
   "outputs": [],
   "source": [
    "# Convert x to float tensors\n",
    "x_train = torch.FloatTensor(x_train)\n",
    "x_test = torch.FloatTensor(x_test)"
   ]
  },
  {
   "cell_type": "code",
   "execution_count": 153,
   "metadata": {},
   "outputs": [],
   "source": [
    "# Convert y to tensors long (allows for more stuff)\n",
    "y_train = torch.LongTensor(y_train)\n",
    "y_test = torch.LongTensor(y_test)"
   ]
  },
  {
   "cell_type": "code",
   "execution_count": 154,
   "metadata": {},
   "outputs": [],
   "source": [
    "# Set criterion of model to measure the error, how far off the predictions are from the data\n",
    "criterion = nn.CrossEntropyLoss()\n",
    "# Choose an optimizer (like gradient descent), set learning rate (lr) [if error doesn't go down after iterations (epochs), might want to lower lr]\n",
    "optimizer = torch.optim.Adam(model.parameters(), lr=0.01)\n"
   ]
  },
  {
   "cell_type": "code",
   "execution_count": 171,
   "metadata": {},
   "outputs": [
    {
     "name": "stdout",
     "output_type": "stream",
     "text": [
      "Epoch: 0 & Loss : 0.00380968046374619\n",
      "Epoch: 10 & Loss : 0.0037048107478767633\n",
      "Epoch: 20 & Loss : 0.003602922661229968\n",
      "Epoch: 30 & Loss : 0.00350667885504663\n",
      "Epoch: 40 & Loss : 0.003411061828956008\n",
      "Epoch: 50 & Loss : 0.003319317940622568\n",
      "Epoch: 60 & Loss : 0.0032332257833331823\n",
      "Epoch: 70 & Loss : 0.0031490616966038942\n",
      "Epoch: 80 & Loss : 0.0030727710109204054\n",
      "Epoch: 90 & Loss : 0.0029938467778265476\n",
      "Epoch: 100 & Loss : 0.002918024780228734\n",
      "Epoch: 110 & Loss : 0.002844914561137557\n",
      "Epoch: 120 & Loss : 0.002772854408249259\n",
      "Epoch: 130 & Loss : 0.002708899788558483\n",
      "Epoch: 140 & Loss : 0.0026429893914610147\n",
      "Epoch: 150 & Loss : 0.0025795185938477516\n",
      "Epoch: 160 & Loss : 0.002517749322578311\n",
      "Epoch: 170 & Loss : 0.002460662741214037\n",
      "Epoch: 180 & Loss : 0.0024035219103097916\n",
      "Epoch: 190 & Loss : 0.002347530797123909\n"
     ]
    }
   ],
   "source": [
    "# Time to train model!!\n",
    "# Epochs? (one run through all the training data in our network)\n",
    "epochs = 200\n",
    "losses = []\n",
    "for i in range(epochs):\n",
    "    # Go forwards and get prediction\n",
    "    y_pred = model.forward(x_train) # Get predicted results\n",
    "\n",
    "    # Measure the error (will be high initially)\n",
    "    loss = criterion(y_pred, y_train) # Predicted value versus training data\n",
    "\n",
    "    # Keep track of losses\n",
    "    losses.append(loss.detach().numpy())\n",
    "\n",
    "    # print every 10 epoch\n",
    "    if i % 10 == 0:\n",
    "        print(f'Epoch: {i} & Loss : {loss}')\n",
    "    \n",
    "    # some back propagation: Gradient descent stuff (fine tune the neural networks)\n",
    "    optimizer.zero_grad()\n",
    "    loss.backward()\n",
    "    optimizer.step()"
   ]
  },
  {
   "cell_type": "code",
   "execution_count": 172,
   "metadata": {},
   "outputs": [
    {
     "data": {
      "text/plain": [
       "Text(0.5, 0, 'epoch')"
      ]
     },
     "execution_count": 172,
     "metadata": {},
     "output_type": "execute_result"
    },
    {
     "data": {
      "image/png": "[encoded data removed]",
      "text/plain": [
       "<Figure size 640x480 with 1 Axes>"
      ]
     },
     "metadata": {},
     "output_type": "display_data"
    }
   ],
   "source": [
    "# Graph stuff out\n",
    "plt.plot(range(epochs), losses)\n",
    "plt.ylabel(\"error\")\n",
    "plt.xlabel(\"epoch\")"
   ]
  },
  {
   "cell_type": "code",
   "execution_count": 173,
   "metadata": {},
   "outputs": [],
   "source": [
    "# Evaluate Model on Test Data set\n",
    "with torch.no_grad(): # Turns off backpropagation\n",
    "    y_eval = model.forward(x_test) # x_test are features from test set, y_eval will be predictions\n",
    "    loss = criterion(y_eval, y_test) # Find error"
   ]
  },
  {
   "cell_type": "code",
   "execution_count": 174,
   "metadata": {},
   "outputs": [
    {
     "data": {
      "text/plain": [
       "tensor(1.3566e-05)"
      ]
     },
     "execution_count": 174,
     "metadata": {},
     "output_type": "execute_result"
    }
   ],
   "source": [
    "loss"
   ]
  },
  {
   "cell_type": "code",
   "execution_count": 175,
   "metadata": {},
   "outputs": [
    {
     "name": "stdout",
     "output_type": "stream",
     "text": [
      "1.) tensor([  6.4604, -43.4324, -23.5652]) \t 0 \t 0\n",
      "2.) tensor([  0.9344, -18.4435,  -7.5206]) \t 0 \t 0\n",
      "3.) tensor([ 12.0274, -68.6073, -39.7293]) \t 0 \t 0\n",
      "4.) tensor([ 10.9087, -63.5484, -36.4811]) \t 0 \t 0\n",
      "5.) tensor([  32.5313, -161.3279,  -99.2624]) \t 0 \t 0\n",
      "6.) tensor([  26.4639, -133.8902,  -81.6454]) \t 0 \t 0\n",
      "7.) tensor([  8.0006, -50.3975, -28.0373]) \t 0 \t 0\n",
      "8.) tensor([  7.8652, -49.7854, -27.6443]) \t 0 \t 0\n",
      "9.) tensor([  3.4896, -29.9985, -14.9398]) \t 0 \t 0\n",
      "10.) tensor([ 12.3067, -69.8703, -40.5402]) \t 0 \t 0\n",
      "11.) tensor([ 15.0038, -82.0666, -48.3711]) \t 0 \t 0\n",
      "12.) tensor([  1.9321, -22.9551, -10.4174]) \t 0 \t 0\n",
      "13.) tensor([  3.3369, -29.3079, -14.4963]) \t 0 \t 0\n",
      "14.) tensor([  5.1019, -37.2892, -19.6209]) \t 0 \t 0\n",
      "15.) tensor([  8.3182, -51.8339, -28.9596]) \t 0 \t 0\n",
      "16.) tensor([  7.5892, -48.5373, -26.8430]) \t 0 \t 0\n",
      "We got 16 correct\n"
     ]
    }
   ],
   "source": [
    "correct = 0\n",
    "with torch.no_grad():\n",
    "    for i, data in enumerate(x_test):\n",
    "        y_val = model.forward(data)\n",
    "\n",
    "        # Tells us type of gravitational wave our nn thinks it is\n",
    "        print(f'{i + 1}.) {str(y_val)} \\t {y_test[i]} \\t {y_val.argmax().item()}')\n",
    "\n",
    "        # Correct or not\n",
    "        if y_val.argmax().item() == y_test[i]:\n",
    "            correct +=1\n",
    "\n",
    "print(f'We got {correct} correct')"
   ]
  }
 ],
 "metadata": {
  "kernelspec": {
   "display_name": "Python 3",
   "language": "python",
   "name": "python3"
  },
  "language_info": {
   "codemirror_mode": {
    "name": "ipython",
    "version": 3
   },
   "file_extension": ".py",
   "mimetype": "text/x-python",
   "name": "python",
   "nbconvert_exporter": "python",
   "pygments_lexer": "ipython3",
   "version": "3.10.10"
  }
 },
 "nbformat": 4,
 "nbformat_minor": 2
}
