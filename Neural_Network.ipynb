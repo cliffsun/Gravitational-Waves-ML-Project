{
 "cells": [
  {
   "cell_type": "code",
   "execution_count": 1,
   "metadata": {},
   "outputs": [],
   "source": [
    "import torch\n",
    "import torch.nn as nn\n",
    "import torch.nn.functional as F"
   ]
  },
  {
   "cell_type": "code",
   "execution_count": 2,
   "metadata": {},
   "outputs": [],
   "source": [
    "# Model class that inherits nn.Module\n",
    "class Model(nn.Module):\n",
    "    #Input layer (mass 1, mass 2, etc.) --> Hidden Layer1 (certain # of neurons) --> H2 (certain # of neurons) --> output (3 classes of gravitational waves)\n",
    "    def __init__(self, in_features=28, h1=8, h2=9, out_features=3):\n",
    "        super().__init__() # Instantiates the nn.module\n",
    "        self.fc1 = nn.Linear(in_features, h1)\n",
    "        self.fcs2 = nn.Linear(h1, h2)\n",
    "        self.out = nn.Linear(h2, out_features)\n",
    "\n",
    "    def forward(self, x):\n",
    "        x = F.relu(self.fc1(x))\n",
    "        x = F.relu(self.fcs2(x))\n",
    "        x = self.out(x)\n",
    "\n",
    "        return x"
   ]
  },
  {
   "cell_type": "code",
   "execution_count": 3,
   "metadata": {},
   "outputs": [],
   "source": [
    "# Pick a starting class\n",
    "torch.manual_seed(69)\n",
    "\n",
    "# Create an instance of the model\n",
    "model = Model()"
   ]
  },
  {
   "cell_type": "code",
   "execution_count": 4,
   "metadata": {},
   "outputs": [],
   "source": [
    "import matplotlib.pyplot as plt\n",
    "import pandas as pd\n",
    "import numpy as np\n",
    "%matplotlib inline"
   ]
  },
  {
   "cell_type": "code",
   "execution_count": 5,
   "metadata": {},
   "outputs": [
    {
     "data": {
      "text/plain": [
       "commonName                          False\n",
       "Type                                False\n",
       "mass_1_source                       False\n",
       "mass_1_source_lower                 False\n",
       "mass_1_source_upper                 False\n",
       "mass_2_source                       False\n",
       "mass_2_source_lower                 False\n",
       "mass_2_source_upper                 False\n",
       "network_matched_filter_snr          False\n",
       "network_matched_filter_snr_lower     True\n",
       "network_matched_filter_snr_upper     True\n",
       "luminosity_distance                 False\n",
       "luminosity_distance_lower           False\n",
       "luminosity_distance_upper           False\n",
       "chi_eff                             False\n",
       "chi_eff_lower                       False\n",
       "chi_eff_upper                       False\n",
       "total_mass_source                    True\n",
       "total_mass_source_lower              True\n",
       "total_mass_source_upper              True\n",
       "chirp_mass_source                   False\n",
       "chirp_mass_source_lower             False\n",
       "chirp_mass_source_upper             False\n",
       "redshift                            False\n",
       "redshift_lower                      False\n",
       "redshift_upper                      False\n",
       "p_astro                             False\n",
       "final_mass_source                    True\n",
       "final_mass_source_lower              True\n",
       "final_mass_source_upper              True\n",
       "dtype: bool"
      ]
     },
     "execution_count": 5,
     "metadata": {},
     "output_type": "execute_result"
    }
   ],
   "source": [
    "url = \"Cleaned_Data - Confident_Significant_Events_GW.csv\"\n",
    "df = pd.read_csv(url)\n",
    "df.isnull().sum()\n",
    "missing_values = [np.NaN]\n",
    "df.isnull().any()"
   ]
  },
  {
   "cell_type": "code",
   "execution_count": 6,
   "metadata": {},
   "outputs": [],
   "source": [
    "df = df.dropna()\n"
   ]
  },
  {
   "cell_type": "code",
   "execution_count": 7,
   "metadata": {},
   "outputs": [],
   "source": [
    "# Changed type from string to \"integers\"\n",
    "df['Type'] = df['Type'].replace('Binary Black Hole Collision', 0.0)\n",
    "df['Type'] = df['Type'].replace('Binary Neutron Star Collision', 1.0)\n",
    "df['Type'] = df['Type'].replace('Binary Black Hole & Neutron Star Collision', 2.0)"
   ]
  },
  {
   "cell_type": "code",
   "execution_count": 8,
   "metadata": {},
   "outputs": [],
   "source": [
    "# Train Test Split, set x, y \n",
    "x = df.drop('Type', axis=1).drop('commonName', axis=1)\n",
    "y = df['Type']"
   ]
  },
  {
   "cell_type": "code",
   "execution_count": 9,
   "metadata": {},
   "outputs": [],
   "source": [
    "# Convert to numpy arrays\n",
    "x = x.values\n",
    "y = y.values"
   ]
  },
  {
   "cell_type": "code",
   "execution_count": 10,
   "metadata": {},
   "outputs": [],
   "source": [
    "from sklearn.model_selection import train_test_split"
   ]
  },
  {
   "cell_type": "code",
   "execution_count": 11,
   "metadata": {},
   "outputs": [],
   "source": [
    "x_train, x_test, y_train, y_test = train_test_split(x, y, test_size=0.2, random_state=41)"
   ]
  },
  {
   "cell_type": "code",
   "execution_count": 12,
   "metadata": {},
   "outputs": [],
   "source": [
    "# Convert x to float tensors\n",
    "x_train = torch.FloatTensor(x_train)\n",
    "x_test = torch.FloatTensor(x_test)"
   ]
  },
  {
   "cell_type": "code",
   "execution_count": 13,
   "metadata": {},
   "outputs": [],
   "source": [
    "# Convert y to tensors long (allows for more stuff)\n",
    "y_train = torch.LongTensor(y_train)\n",
    "y_test = torch.LongTensor(y_test)"
   ]
  },
  {
   "cell_type": "code",
   "execution_count": 14,
   "metadata": {},
   "outputs": [],
   "source": [
    "# Set criterion of model to measure the error, how far off the predictions are from the data\n",
    "criterion = nn.CrossEntropyLoss()\n",
    "# Choose an optimizer (like gradient descent), set learning rate (lr) [if error doesn't go down after iterations (epochs), might want to lower lr]\n",
    "optimizer = torch.optim.Adam(model.parameters(), lr=0.01)\n"
   ]
  },
  {
   "cell_type": "code",
   "execution_count": 15,
   "metadata": {},
   "outputs": [
    {
     "name": "stdout",
     "output_type": "stream",
     "text": [
      "Epoch: 0 & Loss : 5.058434963226318\n",
      "Epoch: 10 & Loss : 0.42534539103507996\n",
      "Epoch: 20 & Loss : 0.41076573729515076\n",
      "Epoch: 30 & Loss : 0.3773934543132782\n",
      "Epoch: 40 & Loss : 0.3161405324935913\n",
      "Epoch: 50 & Loss : 0.25095996260643005\n",
      "Epoch: 60 & Loss : 0.1938592940568924\n",
      "Epoch: 70 & Loss : 0.14950701594352722\n",
      "Epoch: 80 & Loss : 0.12181535363197327\n",
      "Epoch: 90 & Loss : 0.10533306002616882\n",
      "Epoch: 100 & Loss : 0.097323939204216\n",
      "Epoch: 110 & Loss : 0.09416168928146362\n",
      "Epoch: 120 & Loss : 0.0924515426158905\n",
      "Epoch: 130 & Loss : 0.09095099568367004\n",
      "Epoch: 140 & Loss : 0.08965956419706345\n",
      "Epoch: 150 & Loss : 0.08858074247837067\n",
      "Epoch: 160 & Loss : 0.08763329684734344\n",
      "Epoch: 170 & Loss : 0.08677133917808533\n",
      "Epoch: 180 & Loss : 0.085976742208004\n",
      "Epoch: 190 & Loss : 0.08523581922054291\n",
      "Epoch: 200 & Loss : 0.08453688770532608\n",
      "Epoch: 210 & Loss : 0.08387134224176407\n",
      "Epoch: 220 & Loss : 0.08323269337415695\n",
      "Epoch: 230 & Loss : 0.08261559903621674\n",
      "Epoch: 240 & Loss : 0.08201561868190765\n",
      "Epoch: 250 & Loss : 0.08142893761396408\n",
      "Epoch: 260 & Loss : 0.0808522030711174\n",
      "Epoch: 270 & Loss : 0.08028245717287064\n",
      "Epoch: 280 & Loss : 0.07971712201833725\n",
      "Epoch: 290 & Loss : 0.07915370911359787\n",
      "Epoch: 300 & Loss : 0.07858997583389282\n",
      "Epoch: 310 & Loss : 0.07802379876375198\n",
      "Epoch: 320 & Loss : 0.0774531289935112\n",
      "Epoch: 330 & Loss : 0.07687591016292572\n",
      "Epoch: 340 & Loss : 0.07629014551639557\n",
      "Epoch: 350 & Loss : 0.07569383084774017\n",
      "Epoch: 360 & Loss : 0.0750848725438118\n",
      "Epoch: 370 & Loss : 0.07446116954088211\n",
      "Epoch: 380 & Loss : 0.07382044196128845\n",
      "Epoch: 390 & Loss : 0.07316040992736816\n",
      "Epoch: 400 & Loss : 0.07247855514287949\n",
      "Epoch: 410 & Loss : 0.07177224010229111\n",
      "Epoch: 420 & Loss : 0.07103870809078217\n",
      "Epoch: 430 & Loss : 0.07027493417263031\n",
      "Epoch: 440 & Loss : 0.06947775185108185\n",
      "Epoch: 450 & Loss : 0.06864380091428757\n",
      "Epoch: 460 & Loss : 0.06776954978704453\n",
      "Epoch: 470 & Loss : 0.06685131788253784\n",
      "Epoch: 480 & Loss : 0.0658852756023407\n",
      "Epoch: 490 & Loss : 0.06486774981021881\n",
      "Epoch: 500 & Loss : 0.06379491835832596\n",
      "Epoch: 510 & Loss : 0.06266354769468307\n",
      "Epoch: 520 & Loss : 0.06147069111466408\n",
      "Epoch: 530 & Loss : 0.060214269906282425\n",
      "Epoch: 540 & Loss : 0.05889340490102768\n",
      "Epoch: 550 & Loss : 0.057508714497089386\n",
      "Epoch: 560 & Loss : 0.056062888354063034\n",
      "Epoch: 570 & Loss : 0.05456090345978737\n",
      "Epoch: 580 & Loss : 0.053010549396276474\n",
      "Epoch: 590 & Loss : 0.051422327756881714\n"
     ]
    }
   ],
   "source": [
    "# Time to train model!!\n",
    "# Epochs? (one run through all the training data in our network)\n",
    "epochs = 200\n",
    "losses = []\n",
    "for i in range(epochs):\n",
    "    # Go forwards and get prediction\n",
    "    y_pred = model.forward(x_train) # Get predicted results\n",
    "\n",
    "    # Measure the error (will be high initially)\n",
    "    loss = criterion(y_pred, y_train) # Predicted value versus training data\n",
    "\n",
    "    # Keep track of losses\n",
    "    losses.append(loss.detach().numpy())\n",
    "\n",
    "    # print every 10 epoch\n",
    "    if i % 10 == 0:\n",
    "        print(f'Epoch: {i} & Loss : {loss}')\n",
    "    \n",
    "    # some back propagation: Gradient descent stuff (fine tune the neural networks)\n",
    "    optimizer.zero_grad()\n",
    "    loss.backward()\n",
    "    optimizer.step()"
   ]
  },
  {
   "cell_type": "code",
   "execution_count": 16,
   "metadata": {},
   "outputs": [
    {
     "data": {
      "text/plain": [
       "Text(0.5, 0, 'epoch')"
      ]
     },
     "execution_count": 16,
     "metadata": {},
     "output_type": "execute_result"
    },
    {
     "data": {
      "image/png": "[encoded data removed]",
      "text/plain": [
       "<Figure size 640x480 with 1 Axes>"
      ]
     },
     "metadata": {},
     "output_type": "display_data"
    }
   ],
   "source": [
    "# Graph stuff out\n",
    "plt.plot(range(epochs), losses)\n",
    "plt.ylabel(\"error\")\n",
    "plt.xlabel(\"epoch\")"
   ]
  },
  {
   "cell_type": "code",
   "execution_count": 17,
   "metadata": {},
   "outputs": [],
   "source": [
    "# Evaluate Model on Test Data set\n",
    "with torch.no_grad(): # Turns off backpropagation\n",
    "    y_eval = model.forward(x_test) # x_test are features from test set, y_eval will be predictions\n",
    "    loss = criterion(y_eval, y_test) # Find error"
   ]
  },
  {
   "cell_type": "code",
   "execution_count": 18,
   "metadata": {},
   "outputs": [
    {
     "data": {
      "text/plain": [
       "tensor(0.0051)"
      ]
     },
     "execution_count": 18,
     "metadata": {},
     "output_type": "execute_result"
    }
   ],
   "source": [
    "loss"
   ]
  },
  {
   "cell_type": "code",
   "execution_count": 19,
   "metadata": {},
   "outputs": [
    {
     "name": "stdout",
     "output_type": "stream",
     "text": [
      "1.) tensor([ -3.7253, -27.6577, -11.8144]) \t 0 \t 0\n",
      "2.) tensor([ -2.3672, -16.2062,  -6.3289]) \t 0 \t 0\n",
      "3.) tensor([ -4.6700, -35.6238, -15.6303]) \t 0 \t 0\n",
      "4.) tensor([ -4.2698, -32.2492, -14.0138]) \t 0 \t 0\n",
      "5.) tensor([ -14.0261, -114.5166,  -53.4217]) \t 0 \t 0\n",
      "6.) tensor([ -8.4592, -67.5755, -30.9359]) \t 0 \t 0\n",
      "7.) tensor([ -2.9237, -20.8986,  -8.5766]) \t 0 \t 0\n",
      "8.) tensor([ -3.4084, -24.9860, -10.5346]) \t 0 \t 0\n",
      "9.) tensor([ -2.5071, -17.3857,  -6.8939]) \t 0 \t 0\n",
      "10.) tensor([ -6.2737, -49.1463, -22.1079]) \t 0 \t 0\n",
      "11.) tensor([ -6.1742, -48.3079, -21.7063]) \t 0 \t 0\n",
      "12.) tensor([ -2.1811, -14.6368,  -5.5771]) \t 0 \t 0\n",
      "13.) tensor([ -2.5487, -17.7365,  -7.0619]) \t 0 \t 0\n",
      "14.) tensor([ -3.4279, -25.1505, -10.6134]) \t 0 \t 0\n",
      "15.) tensor([ -4.2648, -32.2068, -13.9935]) \t 0 \t 0\n",
      "16.) tensor([ -3.5210, -25.9353, -10.9893]) \t 0 \t 0\n",
      "We got 16 correct\n"
     ]
    }
   ],
   "source": [
    "correct = 0\n",
    "with torch.no_grad():\n",
    "    for i, data in enumerate(x_test):\n",
    "        y_val = model.forward(data)\n",
    "\n",
    "        # Tells us type of gravitational wave our nn thinks it is\n",
    "        print(f'{i + 1}.) {str(y_val)} \\t {y_test[i]} \\t {y_val.argmax().item()}')\n",
    "\n",
    "        # Correct or not\n",
    "        if y_val.argmax().item() == y_test[i]:\n",
    "            correct +=1\n",
    "\n",
    "print(f'We got {correct} correct')"
   ]
  },
  {
   "cell_type": "code",
   "execution_count": 22,
   "metadata": {},
   "outputs": [],
   "source": [
    "torch.save(model.state_dict(), 'Gravitational_Wave_ML_Model')"
   ]
  }
 ],
 "metadata": {
  "kernelspec": {
   "display_name": "Python 3",
   "language": "python",
   "name": "python3"
  },
  "language_info": {
   "codemirror_mode": {
    "name": "ipython",
    "version": 3
   },
   "file_extension": ".py",
   "mimetype": "text/x-python",
   "name": "python",
   "nbconvert_exporter": "python",
   "pygments_lexer": "ipython3",
   "version": "3.10.10"
  }
 },
 "nbformat": 4,
 "nbformat_minor": 2
}
